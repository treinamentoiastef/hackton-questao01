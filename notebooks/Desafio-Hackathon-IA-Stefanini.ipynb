{
 "cells": [
  {
   "cell_type": "markdown",
   "metadata": {},
   "source": [
    "# DinoBank\n",
    "\n",
    "### Desafio Stefanini - Hackathon de I.A\n",
    "\n",
    "Pesquisadores da Stefanini Research, uma equipe de pesquisadores secretos dentro da empresa Stefanini que atua para clientes especiais, e uma equipe da SNASA, o ‘S’ do nome significa secret e trata de uma equipe especial dentro da NASA que busca  explicar fenômenos que ainda deixam resquícios de dúvidas, juntos descobriram recentemente que alguns anos antes do meteoro atingir a Terra ele ficou girando em torno da órbita gerando um campo magnético que teve um efeito nos dinossauros dessa época tornando-os super inteligentes. \n",
    "A partir de então, predadores e presas parecem ter deixado de lado seus lados selvagens e começaram a produzir suas próprias tecnologias, uma dessas descobertas foi a Nuvem Jurássica, da onde até o momento o que se conseguiu recuperar foi uma página de um jornal chamado DinoNews onde falam a respeitos do fundador do maior banco daquela época. Aardonyx, fundador do DinoBank e da familia dos Troodontes, que eram considerados os dinossauros mais inteligentes da época, aparece falando sobre o desenvolvimento do que parece ser a primeira moeda digital do mundo, a DinoCoin, porém, parece que o volume de dados foi muito grande e começaram a ter problemas de clientes que não tinham retorno sobre seus investimentos, clientes que começaram a fraudar dados e gerar muita perda de dinheiro.\n",
    "Um dos outros relatos apresentados no DinoNews foi que o DinoBank também não sabia como oferecer empréstimos e produtos de seguros para os clientes, já que os dados não estão centralizados e tratados adequadamente.\n",
    "\n",
    "Junto à página do jornal foi encontrado também alguns arquivos CSVs que são os seguintes: coin.csv, dinos.csv, trade.csv e counts.csv.\n",
    "\n",
    "\tVocês foram escolhidos para ajudar a Stefanini e a SNASA para desenvolver ******* QUESTOES DA PROVA"
   ]
  },
  {
   "cell_type": "code",
   "execution_count": 25,
   "metadata": {},
   "outputs": [],
   "source": [
    "import pandas as pd\n",
    "import numpy as np\n",
    "\n",
    "from sklearn.preprocessing import (\n",
    "    Normalizer, StandardScaler, OrdinalEncoder, OneHotEncoder,\n",
    "    FunctionTransformer\n",
    ")\n",
    "from sklearn.pipeline import Pipeline, FeatureUnion\n",
    "from sklearn.linear_model import LinearRegression\n",
    "from sklearn.model_selection import train_test_split\n",
    "from sklearn.metrics import mean_squared_error"
   ]
  },
  {
   "cell_type": "markdown",
   "metadata": {},
   "source": [
    "### Questão número 1\n",
    "\n",
    "Faça uma regressão, com as variações das cotações da moeda DinoCoin, onde possamos analisar as variações da cotação da moeda."
   ]
  },
  {
   "cell_type": "code",
   "execution_count": 7,
   "metadata": {},
   "outputs": [
    {
     "data": {
      "text/html": [
       "<div>\n",
       "<style scoped>\n",
       "    .dataframe tbody tr th:only-of-type {\n",
       "        vertical-align: middle;\n",
       "    }\n",
       "\n",
       "    .dataframe tbody tr th {\n",
       "        vertical-align: top;\n",
       "    }\n",
       "\n",
       "    .dataframe thead th {\n",
       "        text-align: right;\n",
       "    }\n",
       "</style>\n",
       "<table border=\"1\" class=\"dataframe\">\n",
       "  <thead>\n",
       "    <tr style=\"text-align: right;\">\n",
       "      <th></th>\n",
       "      <th>Month</th>\n",
       "      <th>Year</th>\n",
       "      <th>periodo do mês</th>\n",
       "      <th>Variacao</th>\n",
       "    </tr>\n",
       "  </thead>\n",
       "  <tbody>\n",
       "    <tr>\n",
       "      <th>0</th>\n",
       "      <td>7</td>\n",
       "      <td>1710</td>\n",
       "      <td>fim</td>\n",
       "      <td>3.20</td>\n",
       "    </tr>\n",
       "    <tr>\n",
       "      <th>1</th>\n",
       "      <td>7</td>\n",
       "      <td>1710</td>\n",
       "      <td>fim</td>\n",
       "      <td>-4.90</td>\n",
       "    </tr>\n",
       "    <tr>\n",
       "      <th>2</th>\n",
       "      <td>7</td>\n",
       "      <td>1710</td>\n",
       "      <td>fim</td>\n",
       "      <td>-4.40</td>\n",
       "    </tr>\n",
       "    <tr>\n",
       "      <th>3</th>\n",
       "      <td>7</td>\n",
       "      <td>1710</td>\n",
       "      <td>fim</td>\n",
       "      <td>-0.85</td>\n",
       "    </tr>\n",
       "    <tr>\n",
       "      <th>4</th>\n",
       "      <td>7</td>\n",
       "      <td>1710</td>\n",
       "      <td>fim</td>\n",
       "      <td>-2.60</td>\n",
       "    </tr>\n",
       "  </tbody>\n",
       "</table>\n",
       "</div>"
      ],
      "text/plain": [
       "   Month  Year periodo do mês  Variacao\n",
       "0      7  1710            fim      3.20\n",
       "1      7  1710            fim     -4.90\n",
       "2      7  1710            fim     -4.40\n",
       "3      7  1710            fim     -0.85\n",
       "4      7  1710            fim     -2.60"
      ]
     },
     "execution_count": 7,
     "metadata": {},
     "output_type": "execute_result"
    }
   ],
   "source": [
    "trade = pd.read_csv('input/questao1.csv')\n",
    "trade.head()"
   ]
  },
  {
   "cell_type": "code",
   "execution_count": 8,
   "metadata": {
    "scrolled": true
   },
   "outputs": [],
   "source": [
    "X = trade.drop('Variacao', axis=1)\n",
    "y = trade['Variacao']\n",
    "\n",
    "X_train, X_test, y_train, y_test = train_test_split(X,y)"
   ]
  },
  {
   "cell_type": "code",
   "execution_count": 9,
   "metadata": {},
   "outputs": [],
   "source": [
    "def get_categorical(row):\n",
    "    return row[['periodo do mês']]\n",
    "\n",
    "def get_numerical(row):\n",
    "    return row[['Month','Year']]\n",
    "\n",
    "transformed_get_categorical = FunctionTransformer(get_categorical, validate=False)\n",
    "transformed_get_numerical = FunctionTransformer(get_numerical, validate=False)"
   ]
  },
  {
   "cell_type": "code",
   "execution_count": 22,
   "metadata": {
    "scrolled": true
   },
   "outputs": [
    {
     "data": {
      "text/plain": [
       "Pipeline(memory=None,\n",
       "     steps=[('union', FeatureUnion(n_jobs=None,\n",
       "       transformer_list=[('categorical', Pipeline(memory=None,\n",
       "     steps=[('selector', FunctionTransformer(accept_sparse=False, check_inverse=True,\n",
       "          func=<function get_categorical at 0x7f21cc9628c8>,\n",
       "          inv_kw_args=None, inverse_func=None, ...'linear', LinearRegression(copy_X=True, fit_intercept=True, n_jobs=None,\n",
       "         normalize=False))])"
      ]
     },
     "execution_count": 22,
     "metadata": {},
     "output_type": "execute_result"
    }
   ],
   "source": [
    "categorical_pipeline = Pipeline([\n",
    "    ('selector', transformed_get_categorical),\n",
    "    ('label_encoder', OneHotEncoder())\n",
    "])\n",
    "\n",
    "\n",
    "numeric_pipeline = Pipeline([\n",
    "    ('selector', transformed_get_numerical),\n",
    "    ('std_scaler', Normalizer()),\n",
    "])\n",
    "\n",
    "feature_union = FeatureUnion([\n",
    "        ('categorical', categorical_pipeline),\n",
    "        ('numerical', numeric_pipeline)\n",
    "])\n",
    "\n",
    "pipeline = Pipeline([\n",
    "    ('union', feature_union),\n",
    "    ('linear', LinearRegression())\n",
    "])\n",
    "\n",
    "pipeline.fit(X_train, y_train)"
   ]
  },
  {
   "cell_type": "code",
   "execution_count": 28,
   "metadata": {},
   "outputs": [
    {
     "name": "stdout",
     "output_type": "stream",
     "text": [
      "Score para treino:  0.0006440960074322044\n",
      "Score para teste:  6.762271132121356e-05\n",
      "O melhor Score possivel é 1\n",
      "Mean Squared Error 10.751219173675732\n",
      "Melhore resultado possível para a métrica MSE é 0\n"
     ]
    }
   ],
   "source": [
    "print(\"Score para treino: \", pipeline.score(X_train, y_train))\n",
    "print(\"Score para teste: \", pipeline.score(X_test, y_test))\n",
    "print(\"O melhor Score possivel é 1\")\n",
    "print(\"Mean Squared Error\", mean_squared_error(y_test, pipeline.predict(X_test)))\n",
    "print(\"Melhore resultado possível para a métrica MSE é 0\")"
   ]
  },
  {
   "cell_type": "markdown",
   "metadata": {},
   "source": [
    "### Faça uma avaliação\n",
    "\n",
    "Explica o que foi utilizado na primeira questão (Métodos que foram utilizados e o motivo de ter escolhido essa abordagem):"
   ]
  },
  {
   "cell_type": "markdown",
   "metadata": {},
   "source": [
    "### Questão número 2\n",
    "\n",
    "Faça um modelo para predizer qual título poderá ser rentável daqui alguns minutos, a partir do trade.csv. Deve ser feito a explicação da metodologia com gráficos e explicar o motivo da escolha do modelo. Lembre-se que você precisa comprovar matematicamente a eficácia de seu modelo."
   ]
  },
  {
   "cell_type": "code",
   "execution_count": null,
   "metadata": {},
   "outputs": [],
   "source": []
  },
  {
   "cell_type": "markdown",
   "metadata": {},
   "source": [
    "### Questão número 3\n",
    "\n",
    "Um grande desafio para os gerentes jurássicos é saber quem são os bons dinossauros pagadores, ou seja, quais são os clientes de baixo risco. Crie um modelo de Machine Learning ou Deep Learning capaz de avaliar o risco com base nas informações dos dinossauros, visando encontrar os que possuem menor risco para o DinoBank. Lembre-se que você precisa demonstrar a eficácia do seu modelo por meio de métricas."
   ]
  },
  {
   "cell_type": "code",
   "execution_count": null,
   "metadata": {},
   "outputs": [],
   "source": []
  }
 ],
 "metadata": {
  "kernelspec": {
   "display_name": "Python 3",
   "language": "python",
   "name": "python3"
  },
  "language_info": {
   "codemirror_mode": {
    "name": "ipython",
    "version": 3
   },
   "file_extension": ".py",
   "mimetype": "text/x-python",
   "name": "python",
   "nbconvert_exporter": "python",
   "pygments_lexer": "ipython3",
   "version": "3.5.3"
  }
 },
 "nbformat": 4,
 "nbformat_minor": 2
}
