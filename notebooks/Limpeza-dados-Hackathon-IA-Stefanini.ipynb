{
 "cells": [
  {
   "cell_type": "markdown",
   "metadata": {},
   "source": [
    "# DinoBank\n",
    "\n",
    "### Desafio Stefanini - Hackathon de I.A\n",
    "\n",
    "Pesquisadores da Stefanini Research, uma equipe de pesquisadores secretos dentro da empresa Stefanini que atua para clientes especiais, e uma equipe da SNASA, o ‘S’ do nome significa secret e trata de uma equipe especial dentro da NASA que busca  explicar fenômenos que ainda deixam resquícios de dúvidas, juntos descobriram recentemente que alguns anos antes do meteoro atingir a Terra ele ficou girando em torno da órbita gerando um campo magnético que teve um efeito nos dinossauros dessa época tornando-os super inteligentes. \n",
    "A partir de então, predadores e presas parecem ter deixado de lado seus lados selvagens e começaram a produzir suas próprias tecnologias, uma dessas descobertas foi a Nuvem Jurássica, da onde até o momento o que se conseguiu recuperar foi uma página de um jornal chamado DinoNews onde falam a respeitos do fundador do maior banco daquela época. Aardonyx, fundador do DinoBank e da familia dos Troodontes, que eram considerados os dinossauros mais inteligentes da época, aparece falando sobre o desenvolvimento do que parece ser a primeira moeda digital do mundo, a DinoCoin, porém, parece que o volume de dados foi muito grande e começaram a ter problemas de clientes que não tinham retorno sobre seus investimentos, clientes que começaram a fraudar dados e gerar muita perda de dinheiro.\n",
    "Um dos outros relatos apresentados no DinoNews foi que o DinoBank também não sabia como oferecer empréstimos e produtos de seguros para os clientes, já que os dados não estão centralizados e tratados adequadamente.\n",
    "\n",
    "Junto à página do jornal foi encontrado também alguns arquivos CSVs que são os seguintes: acounts_dinos.csv, dinos.csv, .\n",
    "\n",
    "\tVocês foram escolhidos para ajudar a Stefanini e a SNASA para desenvolver ******* QUESTOES DA PROVA"
   ]
  },
  {
   "cell_type": "markdown",
   "metadata": {},
   "source": [
    "### Questão número 1\n",
    "\n",
    "Realize o pré-processamento dos dados e explique a razão de cada escolha:"
   ]
  },
  {
   "cell_type": "code",
   "execution_count": 92,
   "metadata": {},
   "outputs": [],
   "source": [
    "# Imports necessários\n",
    "import pandas as pd\n",
    "import seaborn as sns\n",
    "\n",
    "# Importando as bases de dados para execução do pré-processamente\n",
    "df_1 = pd.read_csv(\"dinos.csv\")\n",
    "df_2 = pd.read_csv(\"acounts_dinos.csv\")"
   ]
  },
  {
   "cell_type": "markdown",
   "metadata": {},
   "source": [
    "#### Avaliação da base de dados df_1 (dinos.csv)"
   ]
  },
  {
   "cell_type": "code",
   "execution_count": 93,
   "metadata": {},
   "outputs": [
    {
     "name": "stdout",
     "output_type": "stream",
     "text": [
      "<class 'pandas.core.frame.DataFrame'>\n",
      "RangeIndex: 45222 entries, 0 to 45221\n",
      "Data columns (total 14 columns):\n",
      "age                45222 non-null int64\n",
      "workclass          45222 non-null object\n",
      "education_level    45222 non-null object\n",
      "education-num      45222 non-null float64\n",
      "marital-status     45222 non-null object\n",
      "occupation         45222 non-null object\n",
      "relationship       45222 non-null object\n",
      "race               45222 non-null object\n",
      "sex                45222 non-null object\n",
      "capital-gain       45222 non-null float64\n",
      "capital-loss       45222 non-null float64\n",
      "hours-per-week     45222 non-null float64\n",
      "native-country     45222 non-null object\n",
      "income             45222 non-null object\n",
      "dtypes: float64(4), int64(1), object(9)\n",
      "memory usage: 4.8+ MB\n"
     ]
    }
   ],
   "source": [
    "df_1.head()\n",
    "df_1.tail()\n",
    "df_1.sample(10)\n",
    "df_1.info()\n",
    "\n",
    "# Alguns atribuitos podem ter uma importância maior no modelo de predição do que outros. Aparemente, as variáveis\n",
    "# com maior importância para nosso modelo serão: age, workclass, education-num, occupation, capital gain,\n",
    "# capital loss, horurs-per-week e income\n",
    "\n",
    "# Preciso verificar se os atributos race e sex irão fazer diferença no modelo, bem como income,\n",
    "# uma vez que esse assume um range de valores baixo"
   ]
  },
  {
   "cell_type": "code",
   "execution_count": 94,
   "metadata": {},
   "outputs": [
    {
     "data": {
      "text/plain": [
       "<=50K    34014\n",
       ">50K     11208\n",
       "Name: income, dtype: int64"
      ]
     },
     "execution_count": 94,
     "metadata": {},
     "output_type": "execute_result"
    }
   ],
   "source": [
    "# Avaliando o range de income \n",
    "df_1['income'].value_counts()\n",
    "\n",
    "# O range da variável income é binário, logo ela tem chance de ser uma variável com baixo valor para nosso modelo.\n",
    "# Vou mantê-la fora do modelo inicial (durante a regressão podemos verificar novamente se essa variável tera um\n",
    "# efeito positivo no modelo)"
   ]
  },
  {
   "cell_type": "code",
   "execution_count": 104,
   "metadata": {},
   "outputs": [
    {
     "name": "stderr",
     "output_type": "stream",
     "text": [
      "/home/modesto/anaconda3/lib/python3.7/site-packages/scipy/stats/stats.py:1713: FutureWarning: Using a non-tuple sequence for multidimensional indexing is deprecated; use `arr[tuple(seq)]` instead of `arr[seq]`. In the future this will be interpreted as an array index, `arr[np.array(seq)]`, which will result either in an error or a different result.\n",
      "  return np.add.reduce(sorted[indexer] * weights, axis=axis) / sumval\n"
     ]
    },
    {
     "data": {
      "text/plain": [
       "40.0    21358\n",
       "50.0     4094\n",
       "45.0     2602\n",
       "60.0     2085\n",
       "35.0     1776\n",
       "20.0     1602\n",
       "30.0     1467\n",
       "55.0     1020\n",
       "25.0      820\n",
       "48.0      733\n",
       "38.0      681\n",
       "15.0      519\n",
       "70.0      418\n",
       "32.0      371\n",
       "65.0      349\n",
       "10.0      332\n",
       "42.0      326\n",
       "36.0      308\n",
       "24.0      304\n",
       "44.0      301\n",
       "16.0      253\n",
       "37.0      236\n",
       "43.0      219\n",
       "12.0      201\n",
       "52.0      200\n",
       "80.0      189\n",
       "8.0       152\n",
       "56.0      133\n",
       "46.0      127\n",
       "28.0      123\n",
       "        ...  \n",
       "85.0       17\n",
       "68.0       16\n",
       "11.0       16\n",
       "63.0       14\n",
       "98.0       14\n",
       "78.0       13\n",
       "1.0        12\n",
       "31.0       12\n",
       "29.0       12\n",
       "77.0        9\n",
       "96.0        9\n",
       "59.0        6\n",
       "67.0        6\n",
       "76.0        4\n",
       "86.0        4\n",
       "61.0        4\n",
       "88.0        4\n",
       "74.0        3\n",
       "91.0        3\n",
       "92.0        3\n",
       "89.0        3\n",
       "81.0        3\n",
       "73.0        3\n",
       "95.0        2\n",
       "97.0        2\n",
       "69.0        1\n",
       "79.0        1\n",
       "87.0        1\n",
       "82.0        1\n",
       "94.0        1\n",
       "Name: hours-per-week, Length: 96, dtype: int64"
      ]
     },
     "execution_count": 104,
     "metadata": {},
     "output_type": "execute_result"
    },
    {
     "data": {
      "image/png": "[encoded data removed]",
      "text/plain": [
       "<Figure size 432x288 with 1 Axes>"
      ]
     },
     "metadata": {
      "needs_background": "light"
     },
     "output_type": "display_data"
    }
   ],
   "source": [
    "# Avaliando a distribuição das variáveis quantitativas\n",
    "\n",
    "# Idade\n",
    "#sns.distplot(df_1['age'].dropna())\n",
    "df_1['age'].value_counts()\n",
    "\n",
    "# Nível de escolaridade\n",
    "#sns.distplot(df_1['education-num'].dropna())\n",
    "df_1['education-num'].value_counts()\n",
    "\n",
    "# Capital ganho\n",
    "#sns.distplot(df_1['capital-gain'].dropna())\n",
    "df_1['capital-gain'].value_counts()\n",
    "\n",
    "# Capital perdido\n",
    "#sns.distplot(df_1['capital-loss'].dropna())\n",
    "df_1['capital-loss'].value_counts()\n",
    "\n",
    "# Horas por semana\n",
    "sns.distplot(df_1['hours-per-week'].dropna())\n",
    "df_1['hours-per-week'].value_counts()\n",
    "\n",
    "# Algumas questões importantes da análise:\n",
    "\n",
    "# Quanto às variáveis capital ganho e perdido, há muitos registros zerados. Esses valores fazem sentido serem zerados?\n",
    "# Se sim, esse valores podem representar um forte ponto de influência, o que prejudica o coeficiência angular\n",
    "# da regressão\n",
    "\n",
    "# Quanto à variável horas por semana, é aceitável que um dino possa trabalhar mais de 80 horas/semana? E 100? E 0?\n",
    "# Se sim, os valores dessa variável estão Ok! Caso contrário, precisa-se estabelecer uma regra para análise"
   ]
  },
  {
   "cell_type": "code",
   "execution_count": 96,
   "metadata": {},
   "outputs": [
    {
     "data": {
      "text/plain": [
       " Private             33307\n",
       " Self-emp-not-inc     3796\n",
       " Local-gov            3100\n",
       " State-gov            1946\n",
       " Self-emp-inc         1646\n",
       " Federal-gov          1406\n",
       " Without-pay            21\n",
       "Name: workclass, dtype: int64"
      ]
     },
     "execution_count": 96,
     "metadata": {},
     "output_type": "execute_result"
    },
    {
     "data": {
      "image/png": "[encoded data removed]",
      "text/plain": [
       "<Figure size 432x288 with 1 Axes>"
      ]
     },
     "metadata": {
      "needs_background": "light"
     },
     "output_type": "display_data"
    }
   ],
   "source": [
    "# Avaliando a distribuição das variáveis quanlitativas\n",
    "\n",
    "df_1['occupation'].value_counts().plot.bar()\n",
    "df_1['occupation'].value_counts()\n",
    "\n",
    "df_1['workclass'].value_counts().plot.bar()\n",
    "df_1['workclass'].value_counts()\n",
    "\n",
    "# Algumas questões importantes da análise:\n",
    "\n",
    "# Quanto às variáveis classe de trabalho, há 21 registro de dinos \"Without-pay\". Esses pontos podem representar\n",
    "# overfitting para o modelo, apesar da baixa quantidade. Analisar esse ponto durante o train\n",
    "\n",
    "#sns.factorplot(x='workclass', y='education-num', data=df_1, col='occupation', kind='violin')"
   ]
  },
  {
   "cell_type": "code",
   "execution_count": 106,
   "metadata": {},
   "outputs": [],
   "source": [
    "# O df_1 final ficou com as seguintes variáveis:\n",
    "\n",
    "df_1[[\"age\", \"workclass\", \"education-num\", \"occupation\", \"capital-gain\", \"capital-loss\", \"hours-per-week\"]]\n",
    "\n",
    "# Dada o problema pelos técnicos (HCKT), no qual os valores zero de capital gain e loss representam inconsistência\n",
    "# na base de dados, a exclusão dos registros zerados não era uma opção viável, uma vez que o número de registros\n",
    "# zerados eram altos. Neste sentido, decidiu-se substituir os valores zerados. Uma técnica simples que pode ser\n",
    "# utilizada é substituir os valores zerados pela mediana dos valores diferentes de 0. Diferentemente da média,\n",
    "# a mediana tende a apresentar o ponto de simetria dos dados.\n",
    "\n",
    "# Calculando a mediana em capital gain e loss com base nos valores que não estão zerados\n",
    "mediana_cg = df_1[df_1['capital-gain'] != 0]['capital-gain'].median()\n",
    "mediana_cl = df_1[df_1['capital-loss'] != 0]['capital-loss'].median()\n",
    "\n",
    "# Inserindo a mediana no lugar dos valores de 0 em capital gain e loss\n",
    "df_1['capital-gain'].replace(0, mediana_cg, inplace=True)\n",
    "df_1['capital-loss'].replace(0, mediana_cl, inplace=True)"
   ]
  },
  {
   "cell_type": "markdown",
   "metadata": {},
   "source": [
    "#### Avaliação da base de dados df_2 (acounts_dinos.csv)"
   ]
  },
  {
   "cell_type": "code",
   "execution_count": 111,
   "metadata": {},
   "outputs": [
    {
     "name": "stdout",
     "output_type": "stream",
     "text": [
      "<class 'pandas.core.frame.DataFrame'>\n",
      "RangeIndex: 83681 entries, 0 to 83680\n",
      "Data columns (total 11 columns):\n",
      "step              83681 non-null int64\n",
      "type              83681 non-null object\n",
      "amount            83681 non-null float64\n",
      "nameOrig          83681 non-null object\n",
      "oldbalanceOrg     83681 non-null float64\n",
      "newbalanceOrig    83681 non-null float64\n",
      "nameDest          83681 non-null object\n",
      "oldbalanceDest    83681 non-null float64\n",
      "newbalanceDest    83681 non-null float64\n",
      "isFraud           83681 non-null int64\n",
      "isFlaggedFraud    83681 non-null int64\n",
      "dtypes: float64(5), int64(3), object(3)\n",
      "memory usage: 7.0+ MB\n"
     ]
    }
   ],
   "source": [
    "df_2.head()\n",
    "df_2.tail()\n",
    "df_2.sample(10)\n",
    "df_2.info()"
   ]
  },
  {
   "cell_type": "markdown",
   "metadata": {},
   "source": [
    "### Questão número 2\n",
    "\n",
    "Um passo importante na preparação dos dados para a utilização de Machine Learning é a realização da atividade de Engenharia de Características. Descreva os passos realizados para a obtenção de novas características e como as mesmas afetaram a acurácia do modelo. \n",
    "\n",
    "Caso julgue que o processo de Engenharia de Características seja desnecessário, explique o porquê.\n"
   ]
  },
  {
   "cell_type": "code",
   "execution_count": null,
   "metadata": {},
   "outputs": [],
   "source": [
    "# Conhecer o range das ages x quantidade de dinos\n",
    "\n",
    "# Os dinos que trabalham 0 horas ganham quanto? E os que trabalham 100?"
   ]
  },
  {
   "cell_type": "markdown",
   "metadata": {},
   "source": [
    "### Questão número 3\n",
    "\n",
    "Considerando o modelo desenvolvido na questão 3 do Notebook de Machine Learning, gere um CSV com base na classificação obtida no conjunto de teste (counts.csv). Este CSV deve conter apenas quais dinossauros podem ser considerados bons investidores para o Dinobank. "
   ]
  },
  {
   "cell_type": "code",
   "execution_count": null,
   "metadata": {},
   "outputs": [],
   "source": []
  }
 ],
 "metadata": {
  "kernelspec": {
   "display_name": "Python 3",
   "language": "python",
   "name": "python3"
  },
  "language_info": {
   "codemirror_mode": {
    "name": "ipython",
    "version": 3
   },
   "file_extension": ".py",
   "mimetype": "text/x-python",
   "name": "python",
   "nbconvert_exporter": "python",
   "pygments_lexer": "ipython3",
   "version": "3.7.2"
  }
 },
 "nbformat": 4,
 "nbformat_minor": 2
}
